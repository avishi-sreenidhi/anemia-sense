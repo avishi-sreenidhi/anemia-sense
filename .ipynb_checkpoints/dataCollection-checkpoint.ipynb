{
 "cells": [
  {
   "cell_type": "markdown",
   "metadata": {},
   "source": [
    "### Data Collection and preparation"
   ]
  },
  {
   "cell_type": "code",
   "execution_count": 2,
   "metadata": {},
   "outputs": [],
   "source": [
    "# importing the libraries \n",
    "import pandas as pd\n",
    "import numpy as np\n",
    "import matplotlib.pyplot as plt\n",
    "import seaborn as sns\n"
   ]
  },
  {
   "cell_type": "code",
   "execution_count": 3,
   "metadata": {},
   "outputs": [
    {
     "data": {
      "text/html": [
       "<div>\n",
       "<style scoped>\n",
       "    .dataframe tbody tr th:only-of-type {\n",
       "        vertical-align: middle;\n",
       "    }\n",
       "\n",
       "    .dataframe tbody tr th {\n",
       "        vertical-align: top;\n",
       "    }\n",
       "\n",
       "    .dataframe thead th {\n",
       "        text-align: right;\n",
       "    }\n",
       "</style>\n",
       "<table border=\"1\" class=\"dataframe\">\n",
       "  <thead>\n",
       "    <tr style=\"text-align: right;\">\n",
       "      <th></th>\n",
       "      <th>Gender</th>\n",
       "      <th>Hemoglobin</th>\n",
       "      <th>MCH</th>\n",
       "      <th>MCHC</th>\n",
       "      <th>MCV</th>\n",
       "      <th>Result</th>\n",
       "    </tr>\n",
       "  </thead>\n",
       "  <tbody>\n",
       "    <tr>\n",
       "      <th>0</th>\n",
       "      <td>1</td>\n",
       "      <td>14.9</td>\n",
       "      <td>22.7</td>\n",
       "      <td>29.1</td>\n",
       "      <td>83.7</td>\n",
       "      <td>0</td>\n",
       "    </tr>\n",
       "    <tr>\n",
       "      <th>1</th>\n",
       "      <td>0</td>\n",
       "      <td>15.9</td>\n",
       "      <td>25.4</td>\n",
       "      <td>28.3</td>\n",
       "      <td>72.0</td>\n",
       "      <td>0</td>\n",
       "    </tr>\n",
       "    <tr>\n",
       "      <th>2</th>\n",
       "      <td>0</td>\n",
       "      <td>9.0</td>\n",
       "      <td>21.5</td>\n",
       "      <td>29.6</td>\n",
       "      <td>71.2</td>\n",
       "      <td>1</td>\n",
       "    </tr>\n",
       "    <tr>\n",
       "      <th>3</th>\n",
       "      <td>0</td>\n",
       "      <td>14.9</td>\n",
       "      <td>16.0</td>\n",
       "      <td>31.4</td>\n",
       "      <td>87.5</td>\n",
       "      <td>0</td>\n",
       "    </tr>\n",
       "    <tr>\n",
       "      <th>4</th>\n",
       "      <td>1</td>\n",
       "      <td>14.7</td>\n",
       "      <td>22.0</td>\n",
       "      <td>28.2</td>\n",
       "      <td>99.5</td>\n",
       "      <td>0</td>\n",
       "    </tr>\n",
       "  </tbody>\n",
       "</table>\n",
       "</div>"
      ],
      "text/plain": [
       "   Gender  Hemoglobin   MCH  MCHC   MCV  Result\n",
       "0       1        14.9  22.7  29.1  83.7       0\n",
       "1       0        15.9  25.4  28.3  72.0       0\n",
       "2       0         9.0  21.5  29.6  71.2       1\n",
       "3       0        14.9  16.0  31.4  87.5       0\n",
       "4       1        14.7  22.0  28.2  99.5       0"
      ]
     },
     "execution_count": 3,
     "metadata": {},
     "output_type": "execute_result"
    }
   ],
   "source": [
    "df = pd.read_csv(\"data/anemia.csv\")\n",
    "df.head()"
   ]
  },
  {
   "cell_type": "code",
   "execution_count": 4,
   "metadata": {},
   "outputs": [
    {
     "name": "stdout",
     "output_type": "stream",
     "text": [
      "<class 'pandas.core.frame.DataFrame'>\n",
      "RangeIndex: 1421 entries, 0 to 1420\n",
      "Data columns (total 6 columns):\n",
      " #   Column      Non-Null Count  Dtype  \n",
      "---  ------      --------------  -----  \n",
      " 0   Gender      1421 non-null   int64  \n",
      " 1   Hemoglobin  1421 non-null   float64\n",
      " 2   MCH         1421 non-null   float64\n",
      " 3   MCHC        1421 non-null   float64\n",
      " 4   MCV         1421 non-null   float64\n",
      " 5   Result      1421 non-null   int64  \n",
      "dtypes: float64(4), int64(2)\n",
      "memory usage: 66.7 KB\n"
     ]
    }
   ],
   "source": [
    "df.info()"
   ]
  },
  {
   "cell_type": "markdown",
   "metadata": {},
   "source": [
    "Hence we can conclude there are no missing values and the attributes are of float and integer data type"
   ]
  },
  {
   "cell_type": "code",
   "execution_count": 6,
   "metadata": {},
   "outputs": [
    {
     "data": {
      "text/plain": [
       "(1421, 6)"
      ]
     },
     "execution_count": 6,
     "metadata": {},
     "output_type": "execute_result"
    }
   ],
   "source": [
    "df.shape"
   ]
  },
  {
   "cell_type": "code",
   "execution_count": 7,
   "metadata": {},
   "outputs": [
    {
     "data": {
      "text/plain": [
       "Gender        0\n",
       "Hemoglobin    0\n",
       "MCH           0\n",
       "MCHC          0\n",
       "MCV           0\n",
       "Result        0\n",
       "dtype: int64"
      ]
     },
     "execution_count": 7,
     "metadata": {},
     "output_type": "execute_result"
    }
   ],
   "source": [
    "df.isnull().sum()"
   ]
  },
  {
   "cell_type": "code",
   "execution_count": 8,
   "metadata": {},
   "outputs": [
    {
     "data": {
      "image/png": "[encoded data removed]",
      "text/plain": [
       "<Figure size 640x480 with 1 Axes>"
      ]
     },
     "metadata": {},
     "output_type": "display_data"
    }
   ],
   "source": [
    "results = df['Result'].value_counts()\n",
    "results.plot(kind='bar', color =['blue','green'])\n",
    "plt.xlabel('Result')\n",
    "plt.ylabel('Frequency')\n",
    "plt.title('Count of Result')\n",
    "plt.show()\n",
    "             "
   ]
  },
  {
   "cell_type": "code",
   "execution_count": 9,
   "metadata": {},
   "outputs": [
    {
     "data": {
      "image/png": "[encoded data removed]",
      "text/plain": [
       "<Figure size 640x480 with 1 Axes>"
      ]
     },
     "metadata": {},
     "output_type": "display_data"
    }
   ],
   "source": [
    "result_balanced = df['Result'].value_counts()\n",
    "result_balanced.plot(kind = 'bar',color = ['blue','green'])\n",
    "plt.xlabel('Result')\n",
    "plt.ylabel('Frequency')\n",
    "plt.title('Count of Result(Balanced)')\n",
    "plt.show()\n"
   ]
  },
  {
   "cell_type": "code",
   "execution_count": 22,
   "metadata": {},
   "outputs": [
    {
     "data": {
      "text/plain": [
       "Result\n",
       "0    620\n",
       "1    620\n",
       "Name: count, dtype: int64"
      ]
     },
     "execution_count": 22,
     "metadata": {},
     "output_type": "execute_result"
    }
   ],
   "source": [
    "# female count is observed to be more than male so we balance it using undesampling\n",
    "from sklearn.utils import resample\n",
    "majorclass = df[df['Result'] == 0]\n",
    "minorclass = df[df['Result'] == 1]\n",
    "major_downsample = resample(majorclass, replace=False, n_samples=len(minorclass),random_state=42)\n",
    "df = pd.concat([major_downsample,minorclass])\n",
    "df['Result'].value_counts()"
   ]
  },
  {
   "cell_type": "code",
   "execution_count": 24,
   "metadata": {},
   "outputs": [
    {
     "data": {
      "image/png": "[encoded data removed]",
      "text/plain": [
       "<Figure size 640x480 with 1 Axes>"
      ]
     },
     "metadata": {},
     "output_type": "display_data"
    }
   ],
   "source": [
    "# Plotting the balanced gender counts\n",
    "result_balanced = df['Result'].value_counts()\n",
    "result_balanced.plot(kind = 'bar', color = ['blue','green'])\n",
    "plt.xlabel('Result')\n",
    "plt.ylabel('Frequency')\n",
    "plt.title('Count of Result(Balanced)')\n",
    "plt.show()"
   ]
  },
  {
   "cell_type": "code",
   "execution_count": null,
   "metadata": {},
   "outputs": [],
   "source": []
  }
 ],
 "metadata": {
  "kernelspec": {
   "display_name": "Python 3 (ipykernel)",
   "language": "python",
   "name": "python3"
  },
  "language_info": {
   "codemirror_mode": {
    "name": "ipython",
    "version": 3
   },
   "file_extension": ".py",
   "mimetype": "text/x-python",
   "name": "python",
   "nbconvert_exporter": "python",
   "pygments_lexer": "ipython3",
   "version": "3.12.4"
  }
 },
 "nbformat": 4,
 "nbformat_minor": 4
}
